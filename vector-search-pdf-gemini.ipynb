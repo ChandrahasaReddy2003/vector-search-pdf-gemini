{
  "nbformat": 4,
  "nbformat_minor": 0,
  "metadata": {
    "colab": {
      "provenance": []
    },
    "kernelspec": {
      "name": "python3",
      "display_name": "Python 3"
    },
    "language_info": {
      "name": "python"
    }
  },
  "cells": [
    {
      "cell_type": "markdown",
      "source": [
        "# Import Packages"
      ],
      "metadata": {
        "id": "5vWQweBTeIOo"
      }
    },
    {
      "cell_type": "code",
      "source": [
        "#  Import libraries\n",
        "import os\n",
        "import fitz  # PyMuPDF\n",
        "from langchain.text_splitter import RecursiveCharacterTextSplitter\n",
        "from langchain_community.embeddings import SentenceTransformerEmbeddings\n",
        "from langchain_community.vectorstores import FAISS\n",
        "import google.generativeai as genai\n"
      ],
      "metadata": {
        "id": "flwS7X8DeKPg"
      },
      "execution_count": null,
      "outputs": []
    },
    {
      "cell_type": "markdown",
      "source": [
        "# Set Up API Key"
      ],
      "metadata": {
        "id": "ePNge0fIeP8g"
      }
    },
    {
      "cell_type": "code",
      "source": [
        "#  Set Google Gemini API Key\n",
        "os.environ[\"GOOGLE_API_KEY\"] = \"your-api-key\"  # Replace with your key\n",
        "genai.configure(api_key=os.environ[\"GOOGLE_API_KEY\"])\n"
      ],
      "metadata": {
        "id": "J3py4jHMeRCs"
      },
      "execution_count": null,
      "outputs": []
    },
    {
      "cell_type": "markdown",
      "source": [
        "# Load PDF File"
      ],
      "metadata": {
        "id": "t1kC76A9eTJS"
      }
    },
    {
      "cell_type": "code",
      "source": [
        "#  Upload or define PDF path\n",
        "# from google.colab import files\n",
        "# uploaded = files.upload()\n",
        "# pdf_filename = list(uploaded.keys())[0]\n",
        "\n",
        "pdf_filename = \"/content/Research paper final project.pdf\"  # Update if needed\n"
      ],
      "metadata": {
        "id": "A4-fXzUYeXSS"
      },
      "execution_count": null,
      "outputs": []
    },
    {
      "cell_type": "markdown",
      "source": [
        "# Extract Text from PDF"
      ],
      "metadata": {
        "id": "cvHfp8aDeec8"
      }
    },
    {
      "cell_type": "code",
      "source": [
        "#  Function to extract text from PDF\n",
        "def extract_text_from_pdf(pdf_path):\n",
        "    text = \"\"\n",
        "    with fitz.open(pdf_path) as doc:\n",
        "        for page in doc:\n",
        "            text += page.get_text(\"text\") + \"\\n\"\n",
        "    return text\n",
        "\n",
        "#  Extract\n",
        "pdf_text = extract_text_from_pdf(pdf_filename)\n",
        "print(\"PDF Text Extracted\")\n"
      ],
      "metadata": {
        "id": "7fpTZYAXeeGM"
      },
      "execution_count": null,
      "outputs": []
    },
    {
      "cell_type": "markdown",
      "source": [
        "# Split Text into Chunks"
      ],
      "metadata": {
        "id": "blKKtd6ZemCG"
      }
    },
    {
      "cell_type": "code",
      "source": [
        "#  Split text into overlapping chunks\n",
        "splitter = RecursiveCharacterTextSplitter(chunk_size=300, chunk_overlap=50)\n",
        "text_chunks = splitter.split_text(pdf_text)\n"
      ],
      "metadata": {
        "id": "q0pMYt4Xeo2F"
      },
      "execution_count": null,
      "outputs": []
    },
    {
      "cell_type": "markdown",
      "source": [
        "# Embed Text and Store in FAISS"
      ],
      "metadata": {
        "id": "6Kg58o79erMN"
      }
    },
    {
      "cell_type": "code",
      "source": [
        "#  Create embeddings and store in FAISS\n",
        "embedding_model = SentenceTransformerEmbeddings(model_name=\"all-MiniLM-L6-v2\")\n",
        "vector_db = FAISS.from_texts(text_chunks, embedding_model)\n",
        "print(\"Vector Database Created\")\n"
      ],
      "metadata": {
        "id": "Gx13JQ0LeuOv"
      },
      "execution_count": null,
      "outputs": []
    },
    {
      "cell_type": "markdown",
      "source": [
        "# Search Function"
      ],
      "metadata": {
        "id": "wSk___B6exg_"
      }
    },
    {
      "cell_type": "code",
      "source": [
        "#  Retrieve relevant chunks from vector DB\n",
        "def retrieve_relevant_text(query):\n",
        "    results = vector_db.similarity_search(query, k=10)\n",
        "    return \"\\n\\n\".join([doc.page_content for doc in results])\n"
      ],
      "metadata": {
        "id": "SfbpY20we0Cl"
      },
      "execution_count": null,
      "outputs": []
    },
    {
      "cell_type": "markdown",
      "source": [
        "# Ask Gemini API"
      ],
      "metadata": {
        "id": "adVFjeOke2tQ"
      }
    },
    {
      "cell_type": "code",
      "source": [
        "#  Use Gemini API to answer based on retrieved chunks\n",
        "def ask_gemini(query):\n",
        "    retrieved = retrieve_relevant_text(query)\n",
        "    print(\"\\n Relevant Context:\\n\", retrieved)\n",
        "\n",
        "    model = genai.GenerativeModel(\"gemini-pro\")\n",
        "    prompt = f\"\"\"Please answer the following question using only the provided document content.\n",
        "\n",
        "Document Content:\n",
        "{retrieved}\n",
        "\n",
        "User Question:\n",
        "{query}\n",
        "\n",
        "Answer:\"\"\"\n",
        "\n",
        "    response = model.generate_content(prompt)\n",
        "    return response.text\n"
      ],
      "metadata": {
        "id": "P5NPmX5Te5z0"
      },
      "execution_count": null,
      "outputs": []
    },
    {
      "cell_type": "markdown",
      "source": [
        "# Final Prompt"
      ],
      "metadata": {
        "id": "pg6kHbure8kC"
      }
    },
    {
      "cell_type": "code",
      "source": [
        "#  Get input and respond\n",
        "query = input(\"Enter your question: \")\n",
        "response = ask_gemini(query)\n",
        "\n",
        "print(\"\\n Gemini's Answer:\\n\", response)\n"
      ],
      "metadata": {
        "id": "XmrWr14Xe_Bz"
      },
      "execution_count": null,
      "outputs": []
    },
    {
      "cell_type": "code",
      "source": [],
      "metadata": {
        "id": "pQJ5j6NMfqkV"
      },
      "execution_count": null,
      "outputs": []
    }
  ]
}